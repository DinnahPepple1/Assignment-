{
 "cells": [
  {
   "cell_type": "markdown",
   "id": "c3405b29",
   "metadata": {},
   "source": [
    "# Gabriel Allen Fubara DE 2023/6442\n",
    "\n",
    "This notebook loads the **housing_sales_1200.csv** dataset and generates 9 different graphs\n",
    "to visualize the data.\n",
    "\n",
    "The visualizations include:\n",
    "\n",
    "1. Histogram of Sale Prices\n",
    "2. Boxplot of Sale Prices by Property Type\n",
    "3. Scatter Plot: Square Footage vs Sale Price\n",
    "4. Average Sale Price by City (Bar Chart)\n",
    "5. Days on Market Distribution\n",
    "6. Heatmap of Correlation Between Numeric Features\n",
    "7. Year Built vs Average Sale Price\n",
    "8. HOA Fee Distribution by Property Type\n",
    "9. Scatter Plot of Geographic Locations (Latitude vs Longitude) colored by Price\n"
   ]
  },
  {
   "cell_type": "code",
   "execution_count": null,
   "id": "db791429",
   "metadata": {},
   "outputs": [],
   "source": [
    "import pandas as pd\n",
    "import matplotlib.pyplot as plt\n",
    "import seaborn as sns\n",
    "\n",
    "# Set seaborn style\n",
    "sns.set(style=\"whitegrid\")\n",
    "\n",
    "# Load the dataset\n",
    "df = pd.read_csv(\"housing_sales_1200.csv\")\n",
    "df.head()\n"
   ]
  },
  {
   "cell_type": "code",
   "execution_count": null,
   "id": "cd1affa3",
   "metadata": {},
   "outputs": [],
   "source": [
    "plt.figure(figsize=(10,6))\n",
    "sns.histplot(df['sale_price'], bins=50, kde=True)\n",
    "plt.title('Distribution of Sale Prices')\n",
    "plt.xlabel('Sale Price')\n",
    "plt.ylabel('Count')\n",
    "plt.show()\n"
   ]
  },
  {
   "cell_type": "code",
   "execution_count": null,
   "id": "2b4e09fe",
   "metadata": {},
   "outputs": [],
   "source": [
    "plt.figure(figsize=(10,6))\n",
    "sns.boxplot(x='property_type', y='sale_price', data=df)\n",
    "plt.title('Sale Price by Property Type')\n",
    "plt.xlabel('Property Type')\n",
    "plt.ylabel('Sale Price')\n",
    "plt.xticks(rotation=45)\n",
    "plt.show()\n"
   ]
  },
  {
   "cell_type": "code",
   "execution_count": null,
   "id": "7749dc58",
   "metadata": {},
   "outputs": [],
   "source": [
    "plt.figure(figsize=(10,6))\n",
    "sns.scatterplot(x='sqft', y='sale_price', hue='property_type', data=df, alpha=0.7)\n",
    "plt.title('Square Footage vs Sale Price')\n",
    "plt.xlabel('Square Footage')\n",
    "plt.ylabel('Sale Price')\n",
    "plt.legend(title='Property Type')\n",
    "plt.show()\n"
   ]
  },
  {
   "cell_type": "code",
   "execution_count": null,
   "id": "19f879e8",
   "metadata": {},
   "outputs": [],
   "source": [
    "plt.figure(figsize=(12,6))\n",
    "avg_price_city = df.groupby('city')['sale_price'].mean().sort_values(ascending=False)\n",
    "sns.barplot(x=avg_price_city.index, y=avg_price_city.values)\n",
    "plt.title('Average Sale Price by City')\n",
    "plt.xlabel('City')\n",
    "plt.ylabel('Average Sale Price')\n",
    "plt.xticks(rotation=90)\n",
    "plt.show()\n"
   ]
  },
  {
   "cell_type": "code",
   "execution_count": null,
   "id": "15934ac7",
   "metadata": {},
   "outputs": [],
   "source": [
    "plt.figure(figsize=(10,6))\n",
    "sns.histplot(df['days_on_market'], bins=40, kde=False)\n",
    "plt.title('Days on Market Distribution')\n",
    "plt.xlabel('Days on Market')\n",
    "plt.ylabel('Count')\n",
    "plt.show()\n"
   ]
  },
  {
   "cell_type": "code",
   "execution_count": null,
   "id": "6e53d0e6",
   "metadata": {},
   "outputs": [],
   "source": [
    "plt.figure(figsize=(10,6))\n",
    "corr = df[['beds', 'baths', 'sqft', 'lot_sqft', 'year_built', 'sale_price', 'days_on_market', 'hoa_fee']].corr()\n",
    "sns.heatmap(corr, annot=True, cmap='coolwarm', fmt=\".2f\")\n",
    "plt.title('Correlation Heatmap')\n",
    "plt.show()\n"
   ]
  },
  {
   "cell_type": "code",
   "execution_count": null,
   "id": "6101b0e8",
   "metadata": {},
   "outputs": [],
   "source": [
    "plt.figure(figsize=(12,6))\n",
    "avg_price_year = df.groupby('year_built')['sale_price'].mean()\n",
    "sns.lineplot(x=avg_price_year.index, y=avg_price_year.values)\n",
    "plt.title('Year Built vs Average Sale Price')\n",
    "plt.xlabel('Year Built')\n",
    "plt.ylabel('Average Sale Price')\n",
    "plt.show()\n"
   ]
  },
  {
   "cell_type": "code",
   "execution_count": null,
   "id": "153096e0",
   "metadata": {},
   "outputs": [],
   "source": [
    "plt.figure(figsize=(10,6))\n",
    "sns.boxplot(x='property_type', y='hoa_fee', data=df)\n",
    "plt.title('HOA Fee Distribution by Property Type')\n",
    "plt.xlabel('Property Type')\n",
    "plt.ylabel('HOA Fee')\n",
    "plt.xticks(rotation=45)\n",
    "plt.show()\n"
   ]
  },
  {
   "cell_type": "code",
   "execution_count": null,
   "id": "3f5207d2",
   "metadata": {},
   "outputs": [],
   "source": [
    "plt.figure(figsize=(10,6))\n",
    "sns.scatterplot(x='longitude', y='latitude', hue='sale_price', data=df, palette='viridis', alpha=0.7)\n",
    "plt.title('Geographic Distribution of Sales')\n",
    "plt.xlabel('Longitude')\n",
    "plt.ylabel('Latitude')\n",
    "plt.colorbar(label='Sale Price')\n",
    "plt.show()\n"
   ]
  }
 ],
 "metadata": {
  "language_info": {
   "name": "python"
  }
 },
 "nbformat": 4,
 "nbformat_minor": 5
}
